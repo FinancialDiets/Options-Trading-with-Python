{
 "cells": [
  {
   "cell_type": "markdown",
   "id": "ea9e7d84-525a-4ad9-aba1-2d08b0f8c955",
   "metadata": {},
   "source": [
    "# A Closed Form Solution for Pricing Options: The Black-Scholes Model"
   ]
  },
  {
   "cell_type": "markdown",
   "id": "65d11d15-a999-451e-b032-59ff9c946960",
   "metadata": {},
   "source": [
    "## Load the Libs we need"
   ]
  },
  {
   "cell_type": "code",
   "execution_count": null,
   "id": "6e45d955-fe61-42d1-b12c-b8491e2c366b",
   "metadata": {},
   "outputs": [],
   "source": []
  },
  {
   "cell_type": "code",
   "execution_count": 1,
   "id": "95f0ab3a-bc41-41f1-8ce8-70470117ba8e",
   "metadata": {},
   "outputs": [],
   "source": [
    "# import Lib\n",
    "import pandas as pd\n",
    "import datetime as dt\n",
    "import pytz\n",
    "import os\n",
    "import numpy as np\n",
    "import matplotlib.pyplot as plt\n",
    "import yfinance as yf\n",
    "import numpy as np\n",
    "import scipy.stats as si\n",
    "\n",
    "# import module\n",
    "from datetime import datetime, timezone\n",
    "from datetime import date, time\n",
    "from math import trunc\n",
    "from dateutil.parser import parse\n"
   ]
  },
  {
   "cell_type": "markdown",
   "id": "ebb86b05-7c71-4cd1-8dd9-00609e6435cd",
   "metadata": {},
   "source": [
    "## Black-Scholes Pricing for Calls and Puts"
   ]
  },
  {
   "cell_type": "code",
   "execution_count": 2,
   "id": "7de50c6d-0564-416c-951a-1ea0e2a21441",
   "metadata": {},
   "outputs": [],
   "source": [
    "# mb_black_scholes function needs the following variables:\n",
    "# S: spot price\n",
    "# K: strike price\n",
    "# T: time to maturity\n",
    "# r: interest rate\n",
    "# v: volatility of underlying asset\n",
    "\n",
    "def mb_black_scholes(S, K, T, r, v, option = 'call'):\n",
    "    d1 = (np.log(S / K) + (r + 0.5 * v ** 2) * T) / (v * np.sqrt(T))\n",
    "    d2 = (np.log(S / K) + (r - 0.5 * v ** 2) * T) / (v * np.sqrt(T))\n",
    "    if option == 'call':\n",
    "        result = (S * si.norm.cdf(d1, 0.0, 1.0) - K * np.exp(-r * T) * si.norm.cdf(d2, 0.0, 1.0))\n",
    "    if option == 'put':\n",
    "        result = (K * np.exp(-r * T) * si.norm.cdf(-d2, 0.0, 1.0) - S * si.norm.cdf(-d1, 0.0, 1.0))\n",
    "    return result"
   ]
  },
  {
   "cell_type": "markdown",
   "id": "450bc7f2-aaaa-4dbb-ad58-547a7fae6533",
   "metadata": {},
   "source": [
    "#### Let's price a call and a put"
   ]
  },
  {
   "cell_type": "code",
   "execution_count": 3,
   "id": "000bbc34-c61e-4459-9cc6-bd78634da5c9",
   "metadata": {},
   "outputs": [
    {
     "name": "stdout",
     "output_type": "stream",
     "text": [
      "The Black-Scholes price of the call option is: 45.037061545347896\n",
      "The Black-Scholes price of the put option is: 7.965328097951435\n"
     ]
    }
   ],
   "source": [
    "call_price = mb_black_scholes(175, 145, 1, 0.05, 0.35, option = 'call')\n",
    "put_price = mb_black_scholes(175, 145, 1, 0.05, 0.35, option = 'put')\n",
    "\n",
    "print(f\"The Black-Scholes price of the call option is: {call_price}\")\n",
    "print(f\"The Black-Scholes price of the put option is: {put_price}\")"
   ]
  },
  {
   "cell_type": "code",
   "execution_count": null,
   "id": "a35e8ad4-f2fe-412a-98c5-c5d467ccb3b8",
   "metadata": {},
   "outputs": [],
   "source": []
  },
  {
   "cell_type": "code",
   "execution_count": 4,
   "id": "37402855-4e51-4cd5-a4d8-558939a707ae",
   "metadata": {},
   "outputs": [
    {
     "name": "stdout",
     "output_type": "stream",
     "text": [
      "           contractSymbol              lastTradeDate  strike  lastPrice  \\\n",
      "0     AAPL230526C00095000  2023-05-19 19:36:18+00:00    95.0      80.27   \n",
      "1     AAPL230526C00100000  2023-05-17 13:59:34+00:00   100.0      75.32   \n",
      "2     AAPL230526C00110000  2023-05-16 18:17:19+00:00   110.0      62.18   \n",
      "3     AAPL230526C00115000  2023-05-08 15:00:05+00:00   115.0      58.70   \n",
      "4     AAPL230526C00120000  2023-05-17 19:25:47+00:00   120.0      52.52   \n",
      "...                   ...                        ...     ...        ...   \n",
      "1628  AAPL251219P00260000  2023-05-15 18:24:01+00:00   260.0      86.91   \n",
      "1629  AAPL251219P00270000  2023-05-05 14:01:40+00:00   270.0      96.76   \n",
      "1630  AAPL251219P00290000  2023-05-11 17:03:36+00:00   290.0     116.36   \n",
      "1631  AAPL251219P00300000  2023-04-19 13:31:50+00:00   300.0     134.00   \n",
      "1632  AAPL251219P00310000  2023-05-15 18:24:01+00:00   310.0     139.21   \n",
      "\n",
      "         bid     ask    change  percentChange  volume  openInterest  \\\n",
      "0      78.95   81.45  1.269997       1.607591     7.0             0   \n",
      "1      73.50   76.50  4.639999       6.564798     1.0             6   \n",
      "2      63.50   66.55  0.000000       0.000000    13.0            13   \n",
      "3      59.10   61.55  0.000000       0.000000     1.0             3   \n",
      "4      53.60   56.95  0.000000       0.000000     6.0             5   \n",
      "...      ...     ...       ...            ...     ...           ...   \n",
      "1628   82.75   86.65  0.000000       0.000000    86.0             0   \n",
      "1629   92.75   96.65  0.000000       0.000000     1.0             0   \n",
      "1630  112.70  116.60  0.000000       0.000000    20.0             0   \n",
      "1631    0.00    0.00  0.000000       0.000000     1.0             0   \n",
      "1632  132.70  136.60  0.000000       0.000000    93.0             0   \n",
      "\n",
      "      impliedVolatility  inTheMoney contractSize currency OptionType  \\\n",
      "0              1.812501        True      REGULAR      USD       Call   \n",
      "1              2.871097        True      REGULAR      USD       Call   \n",
      "2              2.478519        True      REGULAR      USD       Call   \n",
      "3              1.539065        True      REGULAR      USD       Call   \n",
      "4              1.332035        True      REGULAR      USD       Call   \n",
      "...                 ...         ...          ...      ...        ...   \n",
      "1628           0.168923        True      REGULAR      USD        Put   \n",
      "1629           0.180520        True      REGULAR      USD        Put   \n",
      "1630           0.200753        True      REGULAR      USD        Put   \n",
      "1631           0.000010        True      REGULAR      USD        Put   \n",
      "1632           0.220070        True      REGULAR      USD        Put   \n",
      "\n",
      "     expirationDate  time_to_expiration  \n",
      "0        2023-05-26                   4  \n",
      "1        2023-05-26                   4  \n",
      "2        2023-05-26                   4  \n",
      "3        2023-05-26                   4  \n",
      "4        2023-05-26                   4  \n",
      "...             ...                 ...  \n",
      "1628     2025-12-19                 942  \n",
      "1629     2025-12-19                 942  \n",
      "1630     2025-12-19                 942  \n",
      "1631     2025-12-19                 942  \n",
      "1632     2025-12-19                 942  \n",
      "\n",
      "[1633 rows x 17 columns]\n"
     ]
    }
   ],
   "source": [
    "mb_src_prices = pd.read_csv(\"mb_tickerDf05192023 2023-05-21 11-06-44-380372.csv\", index_col=0)\n",
    "mb_src_options = pd.read_csv(\"mb_all_options_data05192023 2023-05-21 11-06-51-071892.csv\", index_col=0)\n",
    "mb_src_ir = pd.read_csv(\"mb_US_T_05192023 2023-05-21 11-06-56-696354.csv\", index_col=0)\n",
    "\n",
    "# Parsing the dates in the index and convert them to date only (without time or timezone info)\n",
    "mb_src_prices.index = mb_src_prices.index.map(lambda x: parse(x).date())\n",
    "\n",
    "#print(mb_src_prices)\n",
    "print(mb_src_options)\n",
    "#print(mb_src_ir)"
   ]
  },
  {
   "cell_type": "code",
   "execution_count": 5,
   "id": "bf3331ea-69af-4375-b3de-067fa572be7c",
   "metadata": {},
   "outputs": [
    {
     "name": "stdout",
     "output_type": "stream",
     "text": [
      "           contractSymbol              lastTradeDate  strike  lastPrice  \\\n",
      "1094  AAPL240621C00145000  2023-05-19 19:56:33+00:00   145.0      42.70   \n",
      "1146  AAPL240621P00145000  2023-05-19 15:15:17+00:00   145.0       6.53   \n",
      "\n",
      "        bid   ask    change  percentChange  volume  openInterest  \\\n",
      "1094  43.20  44.2 -0.099998      -0.233641     1.0          3485   \n",
      "1146   6.15   7.0 -0.290000      -4.252199   216.0          8781   \n",
      "\n",
      "      impliedVolatility  inTheMoney contractSize currency OptionType  \\\n",
      "1094           0.400214        True      REGULAR      USD       Call   \n",
      "1146           0.275550       False      REGULAR      USD        Put   \n",
      "\n",
      "     expirationDate  time_to_expiration  \n",
      "1094     2024-06-21                 396  \n",
      "1146     2024-06-21                 396  \n"
     ]
    }
   ],
   "source": [
    "strike_target = 145\n",
    "expiration_target = 396\n",
    "\n",
    "row_target = mb_src_options.loc[(mb_src_options['strike'] == strike_target) & \n",
    "                                (mb_src_options['time_to_expiration'] == expiration_target)]\n",
    "\n",
    "print(row_target)\n"
   ]
  },
  {
   "cell_type": "code",
   "execution_count": null,
   "id": "53a7a0c2-04d2-4bd6-98f5-7b10256f1a23",
   "metadata": {},
   "outputs": [],
   "source": []
  },
  {
   "cell_type": "markdown",
   "id": "64d40449-e24e-4886-8205-cc4ccf812a25",
   "metadata": {},
   "source": [
    "#### Spot Ladder"
   ]
  },
  {
   "cell_type": "code",
   "execution_count": 6,
   "id": "b728ba2f-4bf1-4871-8b8a-be925d9e9bb1",
   "metadata": {},
   "outputs": [
    {
     "name": "stdout",
     "output_type": "stream",
     "text": [
      "    Spot Price  Call Price  Put Price\n",
      "0          100    0.619309  90.865194\n",
      "1          110    1.262418  81.508303\n",
      "2          120    2.299140  72.545025\n",
      "3          130    3.829395  64.075279\n",
      "4          140    5.935591  56.181476\n",
      "5          150    8.676300  48.922185\n",
      "6          160   12.084155  42.330040\n",
      "7          170   16.167140  36.413025\n",
      "8          180   20.912077  31.157962\n",
      "9          190   26.289185  26.535070\n",
      "10         200   32.256858  22.502743\n",
      "11         210   38.766076  19.011961\n",
      "12         220   45.764142  16.010027\n",
      "13         230   53.197635  13.443520\n",
      "14         240   61.014579  11.260464\n",
      "15         250   69.165935   9.411820\n",
      "16         260   77.606516   7.852401\n",
      "17         270   86.295460   6.541344\n",
      "18         280   95.196376   5.442261\n",
      "19         290  104.277257   4.523142\n",
      "20         300  113.510242   3.756127\n"
     ]
    }
   ],
   "source": [
    "# SPOT LADDER\n",
    "\n",
    "# Define parameters\n",
    "K = 200\n",
    "T = 1\n",
    "r = 0.05\n",
    "v = 0.35\n",
    "\n",
    "# Define range for spot price\n",
    "S_range = np.arange(100, 310, 10)\n",
    "\n",
    "# Calculate call and put prices for each spot price\n",
    "call_prices = [mb_black_scholes(S, K, T, r, v, option = 'call') for S in S_range]\n",
    "put_prices = [mb_black_scholes(S, K, T, r, v, option = 'put') for S in S_range]\n",
    "\n",
    "# Create DataFrame\n",
    "df = pd.DataFrame({\n",
    "    'Spot Price': S_range,\n",
    "    'Call Price': call_prices,\n",
    "    'Put Price': put_prices\n",
    "})\n",
    "\n",
    "print(df)"
   ]
  },
  {
   "cell_type": "code",
   "execution_count": 7,
   "id": "5644fc79-ad50-4e95-bd18-28ac5e82d400",
   "metadata": {},
   "outputs": [
    {
     "data": {
      "image/png": "[encoded data removed]",
      "text/plain": [
       "<Figure size 720x432 with 1 Axes>"
      ]
     },
     "metadata": {
      "needs_background": "light"
     },
     "output_type": "display_data"
    }
   ],
   "source": [
    "# Set plot size and title\n",
    "plt.figure(figsize=(10, 6))\n",
    "plt.title('Black-Scholes Option Pricing')\n",
    "\n",
    "# Plot call and put prices\n",
    "plt.plot(df['Spot Price'], df['Call Price'], label='Call Prices', color='blue')\n",
    "plt.plot(df['Spot Price'], df['Put Price'], label='Put Prices', color='red')\n",
    "\n",
    "# Set labels and legend\n",
    "plt.xlabel('Spot Price')\n",
    "plt.ylabel('Option Price')\n",
    "plt.legend()\n",
    "\n",
    "# Display plot\n",
    "plt.show()\n"
   ]
  },
  {
   "cell_type": "markdown",
   "id": "f047231f-b5c2-484c-811a-2cee78bcd68d",
   "metadata": {},
   "source": [
    "## Decoding the Greeks"
   ]
  },
  {
   "cell_type": "markdown",
   "id": "40758ed4-f10d-4869-8a23-2b7672f2b56b",
   "metadata": {},
   "source": [
    "###### First, let's use the analytical approach, based on the closed-form solution of the Black-Scholes model. \n",
    "###### These are the Python functions to calculate the Greeks:"
   ]
  },
  {
   "cell_type": "code",
   "execution_count": 8,
   "id": "3b21fbc2-5ac1-4b57-8bcd-6c73088930d8",
   "metadata": {},
   "outputs": [],
   "source": [
    "def mb_bs_delta(S, K, T, r, v, option='call'):\n",
    "    d1 = (np.log(S / K) + (r + 0.5 * v ** 2) * T) / (v * np.sqrt(T))\n",
    "    if option == 'call':\n",
    "        delta = si.norm.cdf(d1, 0.0, 1.0)\n",
    "    elif option == 'put':\n",
    "        delta = si.norm.cdf(d1, 0.0, 1.0) - 1\n",
    "    return delta\n",
    "\n",
    "def mb_bs_gamma(S, K, T, r, v):\n",
    "    d1 = (np.log(S / K) + (r + 0.5 * v ** 2) * T) / (v * np.sqrt(T))\n",
    "    gamma = si.norm.pdf(d1, 0.0, 1.0) / (S * v * np.sqrt(T))\n",
    "    return gamma\n",
    "\n",
    "def mb_bs_theta(S, K, T, r, v, option='call'):\n",
    "    d1 = (np.log(S / K) + (r + 0.5 * v ** 2) * T) / (v * np.sqrt(T))\n",
    "    d2 = d1 - v * np.sqrt(T)\n",
    "    if option == 'call':\n",
    "        theta = -(S * si.norm.pdf(d1, 0.0, 1.0) * v / (2 * np.sqrt(T))) - r * K * np.exp(-r * T) * si.norm.cdf(d2, 0.0, 1.0)\n",
    "    elif option == 'put':\n",
    "        theta = -(S * si.norm.pdf(d1, 0.0, 1.0) * v / (2 * np.sqrt(T))) + r * K * np.exp(-r * T) * si.norm.cdf(-d2, 0.0, 1.0)\n",
    "    return theta\n",
    "\n",
    "def mb_bs_vega(S, K, T, r, v):\n",
    "    d1 = (np.log(S / K) + (r + 0.5 * v ** 2) * T) / (v * np.sqrt(T))\n",
    "    vega = S * si.norm.pdf(d1, 0.0, 1.0) * np.sqrt(T)\n",
    "    return vega\n",
    "\n",
    "def mb_bs_rho(S, K, T, r, v, option='call'):\n",
    "    d2 = (np.log(S / K) + (r - 0.5 * v ** 2) * T) / (v * np.sqrt(T))\n",
    "    if option == 'call':\n",
    "        rho = K * T * np.exp(-r * T) * si.norm.cdf(d2, 0.0, 1.0)\n",
    "    elif option == 'put':\n",
    "        rho = -K * T * np.exp(-r * T) * si.norm.cdf(-d2, 0.0, 1.0)\n",
    "    return rho\n"
   ]
  },
  {
   "cell_type": "markdown",
   "id": "22733a82-e2d8-4eb0-a5c2-72dd21fc4e72",
   "metadata": {},
   "source": [
    "###### For the numerical approach, we use the concept of finite differences. \n",
    "###### Here, the Greeks are approximated by perturbing each parameter slightly and seeing how much the option price changes:"
   ]
  },
  {
   "cell_type": "code",
   "execution_count": 9,
   "id": "11cff06b-f7ff-42ca-bc25-e77cb4206afe",
   "metadata": {},
   "outputs": [],
   "source": [
    "def mb_numerical_delta(S, K, T, r, v, option='call'):\n",
    "    dS = 0.01 * S\n",
    "    option_plus = mb_black_scholes(S + dS, K, T, r, v, option)\n",
    "    option_minus = mb_black_scholes(S - dS, K, T, r, v, option)\n",
    "    delta = (option_plus - option_minus) / (2 * dS)\n",
    "    return delta\n",
    "\n",
    "def mb_numerical_gamma(S, K, T, r, v):\n",
    "    dS = 0.01 * S\n",
    "    delta_plus = mb_numerical_delta(S + dS, K, T, r, v)\n",
    "    delta_minus = mb_numerical_delta(S - dS, K, T, r, v)\n",
    "    gamma = (delta_plus - delta_minus) / (2 * dS)\n",
    "    return gamma\n",
    "\n",
    "def mb_numerical_vega(S, K, T, r, v):\n",
    "    dv = 0.01 * v\n",
    "    option_plus = mb_black_scholes(S, K, T, r, v + dv)\n",
    "    option_minus = mb_black_scholes(S, K, T, r, v - dv)\n",
    "    vega = (option_plus - option_minus) / (2 * dv)\n",
    "    return vega\n",
    "\n",
    "def mb_numerical_theta(S, K, T, r, v, option='call'):\n",
    "    dT = 0.01 * T\n",
    "    option_plus = mb_black_scholes(S, K, T + dT, r, v, option)\n",
    "    option_minus = mb_black_scholes(S, K, T - dT, r, v, option)\n",
    "    theta = (option_minus - option_plus) / dT  # time decay, theta is negative\n",
    "    return theta\n",
    "\n",
    "def mb_numerical_rho(S, K, T, r, v, option='call'):\n",
    "    dr = 0.01 * r\n",
    "    option_plus = mb_black_scholes(S, K, T, r + dr, v, option)\n",
    "    option_minus = mb_black_scholes(S, K, T, r - dr, v, option)\n",
    "    rho = (option_plus - option_minus) / (2 * dr)\n",
    "    return rho\n",
    "\n"
   ]
  },
  {
   "cell_type": "markdown",
   "id": "30e183de-87ec-4344-9ee1-c7c43541684b",
   "metadata": {},
   "source": [
    "###### Greeks functions test"
   ]
  },
  {
   "cell_type": "code",
   "execution_count": 10,
   "id": "b6223cf3-ef0b-462a-828f-ff814d1e5f17",
   "metadata": {},
   "outputs": [
    {
     "name": "stdout",
     "output_type": "stream",
     "text": [
      "The analytical delta for a call is: 0.8037657315199467\n",
      "The numerical for a call is: 0.8037203528286747\n",
      "The analytical delta for a put is: -0.19623426848005332\n",
      "The numerical for a put is: -0.19627964717132937\n",
      "The analytical gamma is: 0.004518647805975139\n",
      "The numerical gamma is: 0.004519203443039656\n",
      "The analytical vega is: 48.43425617029602\n",
      "The numerical vega is: 48.43326173641824\n",
      "The analytical theta for a call is: -13.25709190333394\n",
      "The numerical for a call is: -26.51432269294247\n",
      "The analytical theta for a put is: -6.360678575703764\n",
      "The numerical for a put is: -12.721495462977828\n",
      "The analytical rho for a call is: 95.62194147064277\n",
      "The numerical for a call is: 95.62192560100868\n",
      "The analytical rho for a put is: -42.30632508196078\n",
      "The numerical for a put is: -42.30634669863775\n"
     ]
    }
   ],
   "source": [
    "# delta\n",
    "calladelta = mb_bs_delta(175, 145, 1, 0.05, 0.35, option = 'call')\n",
    "callndelta = mb_numerical_delta(175, 145, 1, 0.05, 0.35, option = 'call')\n",
    "putadelta = mb_bs_delta(175, 145, 1, 0.05, 0.35, option = 'put')\n",
    "putndelta = mb_numerical_delta(175, 145, 1, 0.05, 0.35, option = 'put')\n",
    "print(f\"The analytical delta for a call is: {calladelta}\")\n",
    "print(f\"The numerical for a call is: {callndelta}\")\n",
    "print(f\"The analytical delta for a put is: {putadelta}\")\n",
    "print(f\"The numerical for a put is: {putndelta}\")\n",
    "# Gamma\n",
    "agamma = mb_bs_gamma(175, 145, 1, 0.05, 0.35)\n",
    "ngamma = mb_numerical_gamma(175, 145, 1, 0.05, 0.35)\n",
    "print(f\"The analytical gamma is: {agamma}\")\n",
    "print(f\"The numerical gamma is: {ngamma}\")\n",
    "# Vega\n",
    "avega = mb_bs_vega(175, 145, 1, 0.05, 0.35)\n",
    "nvega = mb_numerical_vega(175, 145, 1, 0.05, 0.35)\n",
    "print(f\"The analytical vega is: {avega}\")\n",
    "print(f\"The numerical vega is: {nvega}\")\n",
    "# Theta\n",
    "callatheta = mb_bs_theta(175, 145, 1, 0.05, 0.35, option = 'call')\n",
    "callntheta = mb_numerical_theta(175, 145, 1, 0.05, 0.35, option = 'call')\n",
    "putatheta = mb_bs_theta(175, 145, 1, 0.05, 0.35, option = 'put')\n",
    "putntheta = mb_numerical_theta(175, 145, 1, 0.05, 0.35, option = 'put')\n",
    "print(f\"The analytical theta for a call is: {callatheta}\")\n",
    "print(f\"The numerical for a call is: {callntheta}\")\n",
    "print(f\"The analytical theta for a put is: {putatheta}\")\n",
    "print(f\"The numerical for a put is: {putntheta}\")\n",
    "# Rho\n",
    "callarho = mb_bs_rho(175, 145, 1, 0.05, 0.35, option = 'call')\n",
    "callnrho = mb_numerical_rho(175, 145, 1, 0.05, 0.35, option = 'call')\n",
    "putarho = mb_bs_rho(175, 145, 1, 0.05, 0.35, option = 'put')\n",
    "putnrho = mb_numerical_rho(175, 145, 1, 0.05, 0.35, option = 'put')\n",
    "print(f\"The analytical rho for a call is: {callarho}\")\n",
    "print(f\"The numerical for a call is: {callnrho}\")\n",
    "print(f\"The analytical rho for a put is: {putarho}\")\n",
    "print(f\"The numerical for a put is: {putnrho}\")"
   ]
  },
  {
   "cell_type": "code",
   "execution_count": null,
   "id": "feba1c43-4771-4c13-8e08-d0cc68b8c5fe",
   "metadata": {},
   "outputs": [],
   "source": []
  },
  {
   "cell_type": "code",
   "execution_count": null,
   "id": "63d1c9ae-fc98-4a3a-8b14-e9f1a36f1f7e",
   "metadata": {},
   "outputs": [],
   "source": []
  },
  {
   "cell_type": "code",
   "execution_count": null,
   "id": "8c351378-adbd-4553-a9e2-5b0971d7e058",
   "metadata": {},
   "outputs": [],
   "source": []
  },
  {
   "cell_type": "code",
   "execution_count": null,
   "id": "aa22786f-9385-4740-9015-d2477f777906",
   "metadata": {},
   "outputs": [],
   "source": []
  },
  {
   "cell_type": "code",
   "execution_count": null,
   "id": "8872f1c4-f0b7-41c8-9991-d9ae51e5538f",
   "metadata": {},
   "outputs": [],
   "source": []
  }
 ],
 "metadata": {
  "kernelspec": {
   "display_name": "Python 3 (ipykernel)",
   "language": "python",
   "name": "python3"
  },
  "language_info": {
   "codemirror_mode": {
    "name": "ipython",
    "version": 3
   },
   "file_extension": ".py",
   "mimetype": "text/x-python",
   "name": "python",
   "nbconvert_exporter": "python",
   "pygments_lexer": "ipython3",
   "version": "3.9.12"
  }
 },
 "nbformat": 4,
 "nbformat_minor": 5
}
